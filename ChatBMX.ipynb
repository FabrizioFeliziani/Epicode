{
  "nbformat": 4,
  "nbformat_minor": 0,
  "metadata": {
    "colab": {
      "provenance": [],
      "authorship_tag": "ABX9TyMC7Nnzz8X8pNHhfbE+79VM",
      "include_colab_link": true
    },
    "kernelspec": {
      "name": "python3",
      "display_name": "Python 3"
    },
    "language_info": {
      "name": "python"
    }
  },
  "cells": [
    {
      "cell_type": "markdown",
      "metadata": {
        "id": "view-in-github",
        "colab_type": "text"
      },
      "source": [
        "<a href=\"https://colab.research.google.com/github/FabrizioFeliziani/Epicode/blob/main/ChatBMX.ipynb\" target=\"_parent\"><img src=\"https://colab.research.google.com/assets/colab-badge.svg\" alt=\"Open In Colab\"/></a>"
      ]
    },
    {
      "cell_type": "code",
      "execution_count": 11,
      "metadata": {
        "colab": {
          "base_uri": "https://localhost:8080/"
        },
        "id": "jMxdQtbDU6IU",
        "outputId": "91be1d3c-ade8-4952-a42c-05116865057a"
      },
      "outputs": [
        {
          "output_type": "stream",
          "name": "stdout",
          "text": [
            "Ciao, sono il tuo assistente ChatBMX, come posso aiutarti?\n",
            "Non perderti l'offerta sulla bici elettrica al prezzo di 19.9\n",
            "Inserisci il tuo anno di nascita\n",
            "1994\n",
            "La tua età è 29 anni\n",
            "Sei maggiorenne, ecco i veicoli consigliati per te:\n",
            "--> mountain bike\n",
            "--> Graziella\n",
            "--> BMX\n",
            "--> tandem\n",
            "--> motocross\n",
            "--> vespa\n",
            "--> Harley\n",
            "--> Il Ciao\n"
          ]
        }
      ],
      "source": [
        "veicolo_offerta = 'bici elettrica'\n",
        "prezzo_offerta = 19.90\n",
        "biciclette = ['mountain bike','Graziella','BMX','tandem']\n",
        "motociclette = ['motocross', 'vespa','Harley','Il Ciao']\n",
        "veicoli = []\n",
        "\n",
        "print(\"Ciao, sono il tuo assistente ChatBMX, come posso aiutarti?\")\n",
        "print(f\"Non perderti l'offerta sulla {veicolo_offerta} al prezzo di {prezzo_offerta}\")\n",
        "print('Inserisci il tuo anno di nascita')\n",
        "anno_nascita = int(input())\n",
        "anni_cliente = 2023 - anno_nascita\n",
        "\n",
        "print(f'La tua età è {anni_cliente} anni')\n",
        "\n",
        "if anni_cliente < 18:\n",
        "  print('Sei minorenne, ecco i veicoli consigliati per te:')\n",
        "  veicoli = biciclette\n",
        "else:\n",
        "  print('Sei maggiorenne, ecco i veicoli consigliati per te:')\n",
        "  veicoli = biciclette + motociclette\n",
        "\n",
        "for veicolo in veicoli:\n",
        "  print(f'--> {veicolo}')\n"
      ]
    },
    {
      "cell_type": "code",
      "source": [],
      "metadata": {
        "id": "mhidyw5MWifA"
      },
      "execution_count": null,
      "outputs": []
    }
  ]
}